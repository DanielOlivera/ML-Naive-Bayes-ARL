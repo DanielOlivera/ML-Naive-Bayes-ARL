{
 "cells": [
  {
   "cell_type": "markdown",
   "metadata": {},
   "source": [
    " # ALGORITMO BAYESIAN BELIEF NETWORK (BBN)"
   ]
  },
  {
   "cell_type": "markdown",
   "metadata": {},
   "source": [
    "#Descripción:"
   ]
  },
  {
   "cell_type": "markdown",
   "metadata": {},
   "source": [
    "Es un modelo gráfico probabilístico que se utiliza para representar y razonar sobre relaciones de dependencia probabilística entre un conjunto de variables. Estas redes son especialmente útiles en la modelización y toma de decisiones en situaciones inciertas o donde se dispone de datos incompletos.\n",
    "* En un BBN, se definen varias variables aleatorias que representan aspectos de un sistema o un problema. Estas variables pueden ser discretas o continuas y se utilizan para representar información relevante.\n",
    "* Cada variable aleatoria se representa como un nodo en el gráfico. Estos nodos están interconectados mediante arcos dirigidos que indican las dependencias probabilísticas entre las variables.\n",
    "*Cada nodo en un BBN tiene asociada una tabla de probabilidades condicionales que describe la probabilidad de que la variable tome un valor específico dada la información de sus nodos padres (las variables de las que depende directamente).\n",
    "* Una de las principales ventajas de las BBN es su capacidad para realizar inferencia probabilística. Dado un conjunto de observaciones y evidencias sobre algunas variables, se puede utilizar la red para calcular probabilidades posteriores sobre otras variables no observadas. Esto es útil para tomar decisiones basadas en la incertidumbre.\n",
    "\n"
   ]
  },
  {
   "cell_type": "markdown",
   "metadata": {},
   "source": [
    "#Bibtext y Referencias"
   ]
  },
  {
   "cell_type": "markdown",
   "metadata": {},
   "source": [
    "@inproceedings{cheng2001learning,\n",
    "  title={Learning bayesian belief network classifiers: Algorithms and system},\n",
    "  author={Cheng, Jie and Greiner, Russell},\n",
    "  booktitle={Advances in Artificial Intelligence: 14th Biennial Conference of the Canadian Society for Computational Studies of Intelligence, AI 2001 Ottawa, Canada, June 7--9, 2001 Proceedings 14},\n",
    "  pages={141--151},\n",
    "  year={2001},\n",
    "  organization={Springer}\n",
    "}"
   ]
  },
  {
   "cell_type": "markdown",
   "metadata": {},
   "source": [
    "# Herramientas utilizadas:\n",
    "* Obtención de información:\n",
    "* https://www.perplexity.ai/search/a96a2798-e2da-470b-a0ec-48a3f67c76ce?s=u"
   ]
  },
  {
   "cell_type": "markdown",
   "metadata": {},
   "source": [
    "#Tipo de Modelo:\n",
    "* MODELO DE APRENDIZAJE: Supervisado\n",
    "* POR PARAMETROS: Parametrico\n",
    "* DATOS APRENDIZAJE: Offline\n",
    "* RESULTADOS DEL ENTRENAMIENTO: Basado en modelos"
   ]
  },
  {
   "cell_type": "markdown",
   "metadata": {},
   "source": [
    "#Supuestos y Restricciones\n",
    "\n",
    "#Supuestos\n",
    "\n",
    "* Uno de los supuestos clave es la independencia condicional. En una BBN, se asume que una variable es condicionalmente independiente de todas las demás variables en el grafo.\n",
    "* La estructura del grafo subyacente de una BBN se basa en la suposición de que existe una relación causal entre las variables.\n",
    "\n",
    "#Restricciones\n",
    "* Las BBNs asumen relaciones lineales entre las variables.\n",
    "* Las BBNs generalmente trabajan mejor con variables que tienen conjuntos discretos de valores, ya que se basan en tablas de probabilidad condicional discretas.\n",
    "* El tamaño de la tabla de probabilidad condicional puede crecer exponencialmente con el número de variables y sus estados, lo que puede hacer que las BBNs sean computacionalmente costosas de calcular y requerir grandes conjuntos de datos para estimar parámetros de manera confiable.\n"
   ]
  },
  {
   "cell_type": "code",
   "execution_count": 1,
   "metadata": {},
   "outputs": [],
   "source": [
    "from pgmpy.models import BayesianNetwork\n",
    "from pgmpy.factors.discrete import TabularCPD\n",
    "from pgmpy.inference import VariableElimination"
   ]
  },
  {
   "cell_type": "code",
   "execution_count": 2,
   "metadata": {},
   "outputs": [],
   "source": [
    "#Creamos una red bayesiana vacia\n",
    "\n",
    "modelo_bbn = BayesianNetwork()"
   ]
  },
  {
   "cell_type": "code",
   "execution_count": 3,
   "metadata": {},
   "outputs": [],
   "source": [
    "# Definir las variables (nodos) en la red y sus relaciones\n",
    "modelo_bbn.add_nodes_from([\"A\", \"B\", \"C\"])\n",
    "modelo_bbn.add_edges_from([(\"A\", \"B\"), (\"A\", \"C\")])"
   ]
  },
  {
   "cell_type": "code",
   "execution_count": 4,
   "metadata": {},
   "outputs": [],
   "source": [
    "# Definir las Tablas de Probabilidad Condicional (CPD) para cada variable\n",
    "cpd_A = TabularCPD(variable=\"A\", variable_card=2, values=[[0.6], [0.4]])\n",
    "cpd_B = TabularCPD(variable=\"B\", variable_card=2, values=[[0.2, 0.7], [0.8, 0.3]], evidence=[\"A\"], evidence_card=[2])\n",
    "cpd_C = TabularCPD(variable=\"C\", variable_card=2, values=[[0.4, 0.9], [0.6, 0.1]], evidence=[\"A\"], evidence_card=[2])\n"
   ]
  },
  {
   "cell_type": "code",
   "execution_count": 5,
   "metadata": {},
   "outputs": [],
   "source": [
    "# Asociar las CPDs a las variables en el modelo\n",
    "modelo_bbn.add_cpds(cpd_A, cpd_B, cpd_C)"
   ]
  },
  {
   "cell_type": "code",
   "execution_count": 6,
   "metadata": {},
   "outputs": [
    {
     "name": "stdout",
     "output_type": "stream",
     "text": [
      "¿La red es válida? True\n"
     ]
    }
   ],
   "source": [
    "# Comprobar si la red es válida\n",
    "valida = modelo_bbn.check_model()\n",
    "print(\"¿La red es válida?\", valida)"
   ]
  },
  {
   "cell_type": "code",
   "execution_count": 7,
   "metadata": {},
   "outputs": [
    {
     "name": "stdout",
     "output_type": "stream",
     "text": [
      "+------+----------+\n",
      "| B    |   phi(B) |\n",
      "+======+==========+\n",
      "| B(0) |   0.7000 |\n",
      "+------+----------+\n",
      "| B(1) |   0.3000 |\n",
      "+------+----------+\n"
     ]
    }
   ],
   "source": [
    "# Realizar inferencia en la red\n",
    "inference = VariableElimination(modelo_bbn)\n",
    "resultado = inference.query(variables=[\"B\"], evidence={\"A\": 1})\n",
    "print(resultado)"
   ]
  },
  {
   "cell_type": "code",
   "execution_count": 8,
   "metadata": {},
   "outputs": [
    {
     "name": "stdout",
     "output_type": "stream",
     "text": [
      "P(B=1 | A=1) = 0.3\n"
     ]
    }
   ],
   "source": [
    "# Calcular la probabilidad condicional P(B=1 | A=1)\n",
    "probabilidad_B_dado_A = resultado.values[1]\n",
    "print(\"P(B=1 | A=1) =\", probabilidad_B_dado_A)"
   ]
  },
  {
   "cell_type": "code",
   "execution_count": 11,
   "metadata": {},
   "outputs": [],
   "source": [
    "import networkx as nx\n",
    "bbn = nx.DiGraph()"
   ]
  },
  {
   "cell_type": "code",
   "execution_count": 12,
   "metadata": {},
   "outputs": [],
   "source": [
    "bbn.add_node(\"cpd_A\")\n",
    "bbn.add_node(\"cpd_B\")\n",
    "bbn.add_node(\"cpd_C\")"
   ]
  },
  {
   "cell_type": "code",
   "execution_count": 18,
   "metadata": {},
   "outputs": [],
   "source": [
    "# Agregar relaciones (arcos)\n",
    "bbn.add_edge(\"cpd_A\", \"cpd_B\")\n",
    "bbn.add_edge(\"cpd_C\", \"cpd_A\")\n",
    "bbn.add_edge(\"cpd_B\", \"cpd_C\")"
   ]
  },
  {
   "cell_type": "code",
   "execution_count": 19,
   "metadata": {},
   "outputs": [
    {
     "data": {
      "image/png": "[encoded data removed]",
      "text/plain": [
       "<Figure size 640x480 with 1 Axes>"
      ]
     },
     "metadata": {},
     "output_type": "display_data"
    }
   ],
   "source": [
    "import matplotlib.pyplot as plt\n",
    "pos = nx.spring_layout(bbn) \n",
    "nx.draw(bbn, pos, with_labels=True, node_size=500, node_color=\"lightblue\", font_size=10, font_color=\"black\", font_weight=\"bold\", arrowsize=20)\n",
    "plt.title(\"Red Bayesian de Creencias (BBN)\")\n",
    "plt.show()"
   ]
  }
 ],
 "metadata": {
  "kernelspec": {
   "display_name": "base",
   "language": "python",
   "name": "python3"
  },
  "language_info": {
   "codemirror_mode": {
    "name": "ipython",
    "version": 3
   },
   "file_extension": ".py",
   "mimetype": "text/x-python",
   "name": "python",
   "nbconvert_exporter": "python",
   "pygments_lexer": "ipython3",
   "version": "3.9.13"
  },
  "orig_nbformat": 4
 },
 "nbformat": 4,
 "nbformat_minor": 2
}
