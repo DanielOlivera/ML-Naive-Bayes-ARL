{
 "cells": [
  {
   "cell_type": "markdown",
   "metadata": {},
   "source": [
    "# ALGORITMO NAIVE BAYES"
   ]
  },
  {
   "cell_type": "markdown",
   "metadata": {},
   "source": [
    "#Descripción:\n"
   ]
  },
  {
   "cell_type": "markdown",
   "metadata": {},
   "source": [
    "En el mundo de la informática y el aprendizaje automático, el término \"Naive Bayes\" ganó popularidad durante las décadas de 1960 y 1970. \"Naive\" se incluye en el nombre por la suposición de independencia condicional entre características, lo que facilita el cálculo de probabilidades.\n",
    "El algoritmo Naive Bayes es un algoritmo probabilístico de aprendizaje automático utilizado para tareas de clasificación. Se basa en el teorema de Bayes, que calcula la probabilidad condicional de un suceso basándose en el conocimiento previo de las condiciones que podrían estar relacionadas con el suceso\n",
    "* El algoritmo pertenece a la categoría de clasificación del aprendizaje supervisado.\n",
    "* El clasificador Naive Bayes asume que los atributos son condicionalmente independientes dada la variable de clase, que es una asunción de independencia condicional más débil que AODE.\n",
    "* Durante la fase de entrenamiento, Naive Bayes calcula las probabilidades condicionales de cada característica dado cada clase en el conjunto de datos de entrenamiento.\n",
    "* Cuando se presenta una nueva instancia que se va a clasificar, Naive Bayes utiliza el teorema de Bayes para calcular la probabilidad posterior de que la instancia pertenezca a cada clase."
   ]
  },
  {
   "cell_type": "markdown",
   "metadata": {},
   "source": [
    "#Bibtext y Referencias"
   ]
  },
  {
   "cell_type": "markdown",
   "metadata": {},
   "source": [
    "@inproceedings{rish2001empirical,\n",
    "  title={An empirical study of the naive Bayes classifier},\n",
    "  author={Rish, Irina and others},\n",
    "  booktitle={IJCAI 2001 workshop on empirical methods in artificial intelligence},\n",
    "  volume={3},\n",
    "  number={22},\n",
    "  pages={41--46},\n",
    "  year={2001}\n",
    "}"
   ]
  },
  {
   "cell_type": "markdown",
   "metadata": {},
   "source": [
    "# Herramientas utilizadas:\n",
    "* Obtención de información:\n",
    "* https://www.perplexity.ai/search/a96a2798-e2da-470b-a0ec-48a3f67c76ce?s=u\n",
    "* Dataset: @misc{playground-series-s3e14,\n",
    "    author = {Walter Reade, Ashley Chow},\n",
    "    title = {Prediction of Wild Blueberry Yield},\n",
    "    publisher = {Kaggle},\n",
    "    year = {2023},\n",
    "    url = {https://kaggle.com/competitions/playground-series-s3e14}\n",
    "} \n",
    "* donde la variable objetivo 'yield' se encuentra segmentada en categorías de alta o baja producción, definiendo dichas categorías en función de la media de los valores."
   ]
  },
  {
   "cell_type": "markdown",
   "metadata": {},
   "source": [
    "#Tipo de Modelo:\n",
    "* MODELO DE APRENDIZAJE: Supervisado\n",
    "* POR PARAMETROS: Parametrico\n",
    "* DATOS APRENDIZAJE: Offline\n",
    "* RESULTADOS DEL ENTRENAMIENTO: Basado en modelos"
   ]
  },
  {
   "cell_type": "markdown",
   "metadata": {},
   "source": [
    "#Supuestos y Restricciones\n",
    "#Supuestos\n",
    "* El supuesto más destacado de Naive Bayes es que todas las características utilizadas para la clasificación son independientes entre sí dada la clase objetivo.\n",
    "* Si bien Naive Bayes asume independencia condicional entre características, en la práctica, algunas características pueden estar correlacionadas. Esto puede afectar negativamente el rendimiento del modelo.\n",
    "#Restricciones\n",
    "* Las características con escalas muy diferentes pueden influir de manera desproporcionada en el modelo.\n",
    "Naive Bayes no maneja naturalmente datos faltantes. Se requiere un tratamiento especial para abordar este problema.\n",
    "* Naive Bayes asume que los datos se distribuyen de acuerdo con una distribución de probabilidad específica \n",
    "\n"
   ]
  },
  {
   "cell_type": "markdown",
   "metadata": {},
   "source": [
    "#Ejemplo en codigo"
   ]
  },
  {
   "cell_type": "code",
   "execution_count": 1,
   "metadata": {},
   "outputs": [],
   "source": [
    "from sklearn.metrics import accuracy_score, precision_score, recall_score, f1_score, confusion_matrix, classification_report, auc, roc_auc_score, roc_curve\n",
    "from sklearn.preprocessing import StandardScaler, MinMaxScaler\n",
    "from sklearn.naive_bayes import MultinomialNB, GaussianNB\n",
    "from sklearn.model_selection import train_test_split\n",
    "from sklearn.model_selection import cross_val_score\n",
    "from sklearn.preprocessing import LabelEncoder\n",
    "import pandas  as pd\n",
    "import numpy as np\n",
    "import zipfile\n",
    "import os"
   ]
  },
  {
   "cell_type": "code",
   "execution_count": 2,
   "metadata": {},
   "outputs": [],
   "source": [
    "def descomprimir_y_cargar_csv(archivo_zip, directorio_destino='.'):\n",
    "    dataframes = {}\n",
    "\n",
    "    with zipfile.ZipFile(archivo_zip, 'r') as zip_ref:\n",
    "        zip_ref.extractall(directorio_destino)\n",
    "\n",
    "        for nombre_archivo in zip_ref.namelist():\n",
    "            if nombre_archivo.endswith('.csv'):\n",
    "                nombre_variable = os.path.splitext(os.path.basename(nombre_archivo))[0]\n",
    "                ruta_archivo = os.path.join(directorio_destino, nombre_archivo)\n",
    "                dataframes[nombre_variable] = pd.read_csv(ruta_archivo)\n",
    "    \n",
    "    return dataframes"
   ]
  },
  {
   "cell_type": "code",
   "execution_count": 3,
   "metadata": {},
   "outputs": [
    {
     "name": "stdout",
     "output_type": "stream",
     "text": [
      "dict_keys(['sample_submission', 'test', 'train'])\n"
     ]
    }
   ],
   "source": [
    "archivo_zip = 'playground-series-s3e14.zip'\n",
    "dataframes = descomprimir_y_cargar_csv(archivo_zip)\n",
    "print(dataframes.keys())"
   ]
  },
  {
   "cell_type": "code",
   "execution_count": 4,
   "metadata": {},
   "outputs": [
    {
     "name": "stdout",
     "output_type": "stream",
     "text": [
      "Rendimiento promedio: 6025.19[Kg/Ha]\n",
      "['Baja' 'Baja' 'Alta' ... 'Baja' 'Alta' 'Baja']\n",
      "Shape of y: (15289,)\n"
     ]
    },
    {
     "data": {
      "text/html": [
       "<div>\n",
       "<style scoped>\n",
       "    .dataframe tbody tr th:only-of-type {\n",
       "        vertical-align: middle;\n",
       "    }\n",
       "\n",
       "    .dataframe tbody tr th {\n",
       "        vertical-align: top;\n",
       "    }\n",
       "\n",
       "    .dataframe thead th {\n",
       "        text-align: right;\n",
       "    }\n",
       "</style>\n",
       "<table border=\"1\" class=\"dataframe\">\n",
       "  <thead>\n",
       "    <tr style=\"text-align: right;\">\n",
       "      <th></th>\n",
       "      <th>clonesize</th>\n",
       "      <th>honeybee</th>\n",
       "      <th>bumbles</th>\n",
       "      <th>andrena</th>\n",
       "      <th>osmia</th>\n",
       "      <th>MaxOfUpperTRange</th>\n",
       "      <th>MinOfUpperTRange</th>\n",
       "      <th>AverageOfUpperTRange</th>\n",
       "      <th>MaxOfLowerTRange</th>\n",
       "      <th>MinOfLowerTRange</th>\n",
       "      <th>AverageOfLowerTRange</th>\n",
       "      <th>RainingDays</th>\n",
       "      <th>AverageRainingDays</th>\n",
       "      <th>fruitset</th>\n",
       "      <th>fruitmass</th>\n",
       "      <th>seeds</th>\n",
       "      <th>yield</th>\n",
       "    </tr>\n",
       "  </thead>\n",
       "  <tbody>\n",
       "    <tr>\n",
       "      <th>0</th>\n",
       "      <td>25.0</td>\n",
       "      <td>0.50</td>\n",
       "      <td>0.25</td>\n",
       "      <td>0.75</td>\n",
       "      <td>0.50</td>\n",
       "      <td>69.7</td>\n",
       "      <td>42.1</td>\n",
       "      <td>58.2</td>\n",
       "      <td>50.2</td>\n",
       "      <td>24.3</td>\n",
       "      <td>41.2</td>\n",
       "      <td>24.0</td>\n",
       "      <td>0.39</td>\n",
       "      <td>0.425011</td>\n",
       "      <td>0.417545</td>\n",
       "      <td>32.460887</td>\n",
       "      <td>1</td>\n",
       "    </tr>\n",
       "    <tr>\n",
       "      <th>1</th>\n",
       "      <td>25.0</td>\n",
       "      <td>0.50</td>\n",
       "      <td>0.25</td>\n",
       "      <td>0.50</td>\n",
       "      <td>0.50</td>\n",
       "      <td>69.7</td>\n",
       "      <td>42.1</td>\n",
       "      <td>58.2</td>\n",
       "      <td>50.2</td>\n",
       "      <td>24.3</td>\n",
       "      <td>41.2</td>\n",
       "      <td>24.0</td>\n",
       "      <td>0.39</td>\n",
       "      <td>0.444908</td>\n",
       "      <td>0.422051</td>\n",
       "      <td>33.858317</td>\n",
       "      <td>1</td>\n",
       "    </tr>\n",
       "    <tr>\n",
       "      <th>2</th>\n",
       "      <td>12.5</td>\n",
       "      <td>0.25</td>\n",
       "      <td>0.25</td>\n",
       "      <td>0.63</td>\n",
       "      <td>0.63</td>\n",
       "      <td>86.0</td>\n",
       "      <td>52.0</td>\n",
       "      <td>71.9</td>\n",
       "      <td>62.0</td>\n",
       "      <td>30.0</td>\n",
       "      <td>50.8</td>\n",
       "      <td>24.0</td>\n",
       "      <td>0.39</td>\n",
       "      <td>0.552927</td>\n",
       "      <td>0.470853</td>\n",
       "      <td>38.341781</td>\n",
       "      <td>0</td>\n",
       "    </tr>\n",
       "    <tr>\n",
       "      <th>3</th>\n",
       "      <td>12.5</td>\n",
       "      <td>0.25</td>\n",
       "      <td>0.25</td>\n",
       "      <td>0.63</td>\n",
       "      <td>0.50</td>\n",
       "      <td>77.4</td>\n",
       "      <td>46.8</td>\n",
       "      <td>64.7</td>\n",
       "      <td>55.8</td>\n",
       "      <td>27.0</td>\n",
       "      <td>45.8</td>\n",
       "      <td>24.0</td>\n",
       "      <td>0.39</td>\n",
       "      <td>0.565976</td>\n",
       "      <td>0.478137</td>\n",
       "      <td>39.467561</td>\n",
       "      <td>0</td>\n",
       "    </tr>\n",
       "    <tr>\n",
       "      <th>4</th>\n",
       "      <td>25.0</td>\n",
       "      <td>0.50</td>\n",
       "      <td>0.25</td>\n",
       "      <td>0.63</td>\n",
       "      <td>0.63</td>\n",
       "      <td>77.4</td>\n",
       "      <td>46.8</td>\n",
       "      <td>64.7</td>\n",
       "      <td>55.8</td>\n",
       "      <td>27.0</td>\n",
       "      <td>45.8</td>\n",
       "      <td>24.0</td>\n",
       "      <td>0.39</td>\n",
       "      <td>0.579677</td>\n",
       "      <td>0.494165</td>\n",
       "      <td>40.484512</td>\n",
       "      <td>0</td>\n",
       "    </tr>\n",
       "  </tbody>\n",
       "</table>\n",
       "</div>"
      ],
      "text/plain": [
       "   clonesize  honeybee  bumbles  andrena  osmia  MaxOfUpperTRange  \\\n",
       "0       25.0      0.50     0.25     0.75   0.50              69.7   \n",
       "1       25.0      0.50     0.25     0.50   0.50              69.7   \n",
       "2       12.5      0.25     0.25     0.63   0.63              86.0   \n",
       "3       12.5      0.25     0.25     0.63   0.50              77.4   \n",
       "4       25.0      0.50     0.25     0.63   0.63              77.4   \n",
       "\n",
       "   MinOfUpperTRange  AverageOfUpperTRange  MaxOfLowerTRange  MinOfLowerTRange  \\\n",
       "0              42.1                  58.2              50.2              24.3   \n",
       "1              42.1                  58.2              50.2              24.3   \n",
       "2              52.0                  71.9              62.0              30.0   \n",
       "3              46.8                  64.7              55.8              27.0   \n",
       "4              46.8                  64.7              55.8              27.0   \n",
       "\n",
       "   AverageOfLowerTRange  RainingDays  AverageRainingDays  fruitset  fruitmass  \\\n",
       "0                  41.2         24.0                0.39  0.425011   0.417545   \n",
       "1                  41.2         24.0                0.39  0.444908   0.422051   \n",
       "2                  50.8         24.0                0.39  0.552927   0.470853   \n",
       "3                  45.8         24.0                0.39  0.565976   0.478137   \n",
       "4                  45.8         24.0                0.39  0.579677   0.494165   \n",
       "\n",
       "       seeds  yield  \n",
       "0  32.460887      1  \n",
       "1  33.858317      1  \n",
       "2  38.341781      0  \n",
       "3  39.467561      0  \n",
       "4  40.484512      0  "
      ]
     },
     "execution_count": 4,
     "metadata": {},
     "output_type": "execute_result"
    }
   ],
   "source": [
    "df_train_cat= dataframes['train']\n",
    "if 'id' in df_train_cat.columns:\n",
    "    df_train_cat.drop(['id'], axis=1, inplace=True)\n",
    "else:\n",
    "    print(\"No se encontró la columna 'id'\")\n",
    "mean_yield = df_train_cat[\"yield\"].mean()\n",
    "print(f\"Rendimiento promedio: {mean_yield:.2f}\"+\"[Kg/Ha]\")\n",
    "y_cat = df_train_cat[\"yield\"]\n",
    "y_cat = np.where(y_cat <= mean_yield, \"Baja\", \"Alta\")\n",
    "print(y_cat)\n",
    "print('Shape of y: {}'.format(y_cat.shape))\n",
    "y_cat = pd.DataFrame(y_cat, columns=[\"yield\"])\n",
    "y_cat.value_counts()\n",
    "\n",
    "df_train_cat['yield'] = y_cat\n",
    "le = LabelEncoder()\n",
    "le.fit(df_train_cat['yield'])\n",
    "df_train_cat['yield'] = le.transform(df_train_cat['yield'])\n",
    "df_train_cat.head(5)"
   ]
  },
  {
   "cell_type": "code",
   "execution_count": 5,
   "metadata": {},
   "outputs": [],
   "source": [
    "def standardize_and_normalize(df):\n",
    "    scaler_std = StandardScaler()\n",
    "    df_standardized = pd.DataFrame(scaler_std.fit_transform(df), columns=df.columns)\n",
    "\n",
    "    scaler_norm = MinMaxScaler()\n",
    "    df_normalized = pd.DataFrame(scaler_norm.fit_transform(df), columns=df.columns)\n",
    "\n",
    "    return df_standardized, df_normalized, scaler_std, scaler_norm"
   ]
  },
  {
   "cell_type": "code",
   "execution_count": 6,
   "metadata": {},
   "outputs": [
    {
     "name": "stdout",
     "output_type": "stream",
     "text": [
      "Shape of X: (15289, 16)\n",
      "Shape of y: (15289,)\n",
      "Instancias X_train (category) dataset:  (12231, 16)\n",
      "Instancias y_train (category) dataset:  (12231,)\n",
      "Instancias X_test (category) dataset:  (3058, 16)\n",
      "Instancias y_test (category) dataset:  (3058,) \n",
      "\n"
     ]
    }
   ],
   "source": [
    "df_train_std_cat, df_train_norm_cat, scaler_std_train_cat, scaler_norm_train_cat = standardize_and_normalize(df_train_cat)\n",
    "df_train_std_cat['yield'] = df_train_std_cat['yield'] * scaler_std_train_cat.scale_[-1] + scaler_std_train_cat.mean_[-1]\n",
    "\n",
    "X_cat = df_train_std_cat.drop('yield', axis=1)\n",
    "y_cat = df_train_std_cat['yield']\n",
    "\n",
    "print('Shape of X: {}'.format(X_cat.shape))\n",
    "print('Shape of y: {}'.format(y_cat.shape))\n",
    "X_train_cat, X_test_cat, y_train_cat, y_test_cat = train_test_split(X_cat, y_cat, test_size=0.2, random_state=957)\n",
    "print(\"Instancias X_train (category) dataset: \", X_train_cat.shape)\n",
    "print(\"Instancias y_train (category) dataset: \", y_train_cat.shape)\n",
    "print(\"Instancias X_test (category) dataset: \", X_test_cat.shape)\n",
    "print(\"Instancias y_test (category) dataset: \", y_test_cat.shape,'\\n')"
   ]
  },
  {
   "cell_type": "code",
   "execution_count": 9,
   "metadata": {},
   "outputs": [],
   "source": [
    "def naive_bayes_classification_cv(X_train, y_train, X_test, y_test):\n",
    "    \n",
    "    gaussian_nb = GaussianNB()\n",
    "    gaussian_nb.fit(X_train, y_train)\n",
    " \n",
    "    for model_name, model in [('GaussianNB', gaussian_nb)]:\n",
    "        \n",
    "        y_pred = model.predict(X_test)\n",
    "        accuracy = accuracy_score(y_test, y_pred)\n",
    "        precision = precision_score(y_test, y_pred)\n",
    "        recall = recall_score(y_test, y_pred)\n",
    "        f1 = f1_score(y_test, y_pred)\n",
    "\n",
    "        print(f\"  Test Accuracy: {accuracy:.2f}\")\n",
    "        print(f\"  Test Precision: {precision:.2f}\")\n",
    "        print(f\"  Test Recall: {recall:.2f}\")\n",
    "        print(f\"  Test F1 Score: {f1:.2f}\\n\")\n",
    "        print(confusion_matrix(y_test, y_pred))\n",
    "        print(classification_report(y_test, y_pred))\n",
    "        print(\"Precision:\",accuracy_score(y_test, y_pred)*100,\"%\\n\")\n",
    "\n",
    "    return gaussian_nb"
   ]
  },
  {
   "cell_type": "code",
   "execution_count": 10,
   "metadata": {},
   "outputs": [
    {
     "name": "stdout",
     "output_type": "stream",
     "text": [
      "  Test Accuracy: 0.88\n",
      "  Test Precision: 0.89\n",
      "  Test Recall: 0.85\n",
      "  Test F1 Score: 0.87\n",
      "\n",
      "[[1461  148]\n",
      " [ 212 1237]]\n",
      "              precision    recall  f1-score   support\n",
      "\n",
      "         0.0       0.87      0.91      0.89      1609\n",
      "         1.0       0.89      0.85      0.87      1449\n",
      "\n",
      "    accuracy                           0.88      3058\n",
      "   macro avg       0.88      0.88      0.88      3058\n",
      "weighted avg       0.88      0.88      0.88      3058\n",
      "\n",
      "Precision: 88.2275997383911 %\n",
      "\n"
     ]
    }
   ],
   "source": [
    "gaussian_NB = naive_bayes_classification_cv(X_train_cat, y_train_cat, X_test_cat, y_test_cat)"
   ]
  },
  {
   "cell_type": "markdown",
   "metadata": {},
   "source": [
    "# Nota\n",
    "El término \"Naive Bayes\" a menudo se utiliza como una descripción genérica de una familia de algoritmos de clasificación que se basan en el teorema de Bayes y hacen una suposición ingenua o \"naive\" sobre la independencia entre las características (variables predictoras). Sin embargo, dentro de esta familia de algoritmos, existen variantes que se adaptan a diferentes tipos de datos. Las dos variantes principales son el \"Multinomial Naive Bayes\" y el \"Gaussian Naive Bayes.\""
   ]
  }
 ],
 "metadata": {
  "kernelspec": {
   "display_name": "base",
   "language": "python",
   "name": "python3"
  },
  "language_info": {
   "codemirror_mode": {
    "name": "ipython",
    "version": 3
   },
   "file_extension": ".py",
   "mimetype": "text/x-python",
   "name": "python",
   "nbconvert_exporter": "python",
   "pygments_lexer": "ipython3",
   "version": "3.9.13"
  },
  "orig_nbformat": 4
 },
 "nbformat": 4,
 "nbformat_minor": 2
}
