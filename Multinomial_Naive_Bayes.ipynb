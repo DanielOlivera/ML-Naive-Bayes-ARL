{
 "cells": [
  {
   "cell_type": "markdown",
   "metadata": {},
   "source": [
    " # ALGORITMO MULTINOMIAL NAIVE BAYES"
   ]
  },
  {
   "cell_type": "markdown",
   "metadata": {},
   "source": [
    "#Descripción:"
   ]
  },
  {
   "cell_type": "markdown",
   "metadata": {},
   "source": [
    "El algoritmo de Naive Bayes Multinomial es un método de aprendizaje probabilístico que se utiliza principalmente en el Procesamiento del Lenguaje Natural (NLP). Este algoritmo se fundamenta en el teorema de Bayes y tiene como objetivo predecir la etiqueta de un texto, como un correo electrónico o un artículo de periódico. En su funcionamiento, calcula la probabilidad de cada etiqueta para una muestra dada y, posteriormente, selecciona la etiqueta con la probabilidad más alta como resultado. Para llevar a cabo esta tarea, el algoritmo adopta el enfoque de \"bolsa de palabras\", en el cual las palabras individuales en el documento se consideran sus características, sin tomar en cuenta el orden en que aparecen. Asimismo, el algoritmo genera un vector de características en el cual cada término representa la cantidad de veces que aparece en el texto o su frecuencia. Este método se utiliza ampliamente en la clasificación de documentos en categorías, basándose en el análisis estadístico de su contenido."
   ]
  },
  {
   "cell_type": "markdown",
   "metadata": {},
   "source": [
    "#Bibtext y Referencias"
   ]
  },
  {
   "cell_type": "markdown",
   "metadata": {},
   "source": [
    "@article{abbas2019multinomial,\n",
    "  title={Multinomial Naive Bayes classification model for sentiment analysis},\n",
    "  author={Abbas, Muhammad and Memon, K Ali and Jamali, A Aleem and Memon, Saleemullah and Ahmed, Anees},\n",
    "  journal={IJCSNS Int. J. Comput. Sci. Netw. Secur},\n",
    "  volume={19},\n",
    "  number={3},\n",
    "  pages={62},\n",
    "  year={2019}\n",
    "}"
   ]
  },
  {
   "cell_type": "markdown",
   "metadata": {},
   "source": [
    "# Herramientas utilizadas:\n",
    "* Obtención de información:\n",
    "* https://www.perplexity.ai/search/a96a2798-e2da-470b-a0ec-48a3f67c76ce?s=u\n",
    "* https://www.mygreatlearning.com/blog/multinomial-naive-bayes-explained/"
   ]
  },
  {
   "cell_type": "markdown",
   "metadata": {},
   "source": [
    "#Tipo de Modelo:\n",
    "* MODELO DE APRENDIZAJE: Supervisado\n",
    "* POR PARAMETROS: Parametrico\n",
    "* DATOS APRENDIZAJE: Offline\n",
    "* RESULTADOS DEL ENTRENAMIENTO: Basado en modelos"
   ]
  },
  {
   "cell_type": "markdown",
   "metadata": {},
   "source": [
    "#Supuestos y Restricciones\n",
    "\n",
    "#Supuestos\n",
    "\n",
    "* El algoritmo supone que las características utilizadas para la clasificación son independientes entre sí. Esto significa que la presencia o ausencia de una característica no afecta la presencia o ausencia de otras características en el documento.\n",
    "*  El algoritmo se basa en una distribución multinomial para modelar la frecuencia de las palabras o características en los documentos. Esto implica que los valores de las características son recuentos enteros no negativos.\n",
    "\n",
    "#Restricciones\n",
    "\n",
    "* Dado que el algoritmo trata cada característica de manera independiente, no tiene en cuenta las relaciones contextuales o dependencias semánticas entre las palabras en un documento.\n",
    "* El tamaño del vocabulario (es decir, la cantidad de palabras únicas) puede afectar significativamente el rendimiento del algoritmo.\n",
    "* El algoritmo confía en las frecuencias de términos para realizar las predicciones. Si una palabra no está en el conjunto de entrenamiento, tendrá una frecuencia de cero y podría generar problemas.\n",
    "* No tiene en cuenta la estructura gramatical o sintáctica de los documentos, lo que lo hace menos adecuado para tareas de NLP que requieren un análisis profundo de la gramática y la semántica.\n"
   ]
  },
  {
   "cell_type": "code",
   "execution_count": 1,
   "metadata": {},
   "outputs": [],
   "source": [
    "# Importar las bibliotecas necesarias y el dataset fetch_20newsgroups\n",
    "from sklearn.datasets import fetch_20newsgroups\n",
    "from sklearn.feature_extraction.text import CountVectorizer\n",
    "from sklearn.naive_bayes import MultinomialNB\n",
    "from sklearn.model_selection import train_test_split\n",
    "from sklearn.metrics import accuracy_score"
   ]
  },
  {
   "cell_type": "code",
   "execution_count": 2,
   "metadata": {},
   "outputs": [],
   "source": [
    "# Cargar el dataset\n",
    "newsgroups = fetch_20newsgroups(subset='all', remove=('headers', 'footers', 'quotes'))"
   ]
  },
  {
   "cell_type": "code",
   "execution_count": 7,
   "metadata": {},
   "outputs": [
    {
     "name": "stdout",
     "output_type": "stream",
     "text": [
      "Nombre de las clases:  ['alt.atheism', 'comp.graphics', 'comp.os.ms-windows.misc', 'comp.sys.ibm.pc.hardware', 'comp.sys.mac.hardware', 'comp.windows.x', 'misc.forsale', 'rec.autos', 'rec.motorcycles', 'rec.sport.baseball', 'rec.sport.hockey', 'sci.crypt', 'sci.electronics', 'sci.med', 'sci.space', 'soc.religion.christian', 'talk.politics.guns', 'talk.politics.mideast', 'talk.politics.misc', 'talk.religion.misc']\n",
      "Número de muestras:  18846\n",
      "Número de clases:  20\n",
      "\n",
      "\n",
      "I am sure some bashers of Pens fans are pretty confused about the lack\n",
      "of any kind of posts about the recent Pens massacre of the Devils. Actually,\n",
      "I am  bit puzzled too and a bit relieved. However, I am going to put an end\n",
      "to non-PIttsburghers' relief with a bit of praise for the Pens. Man, they\n",
      "are killing those Devils worse than I thought. Jagr just showed you why\n",
      "he is much better than his regular season stats. He is also a lot\n",
      "fo fun to watch in the playoffs. Bowman should let JAgr have a lot of\n",
      "fun in the next couple of games since the Pens are going to beat the pulp out of Jersey anyway. I was very disappointed not to see the Islanders lose the final\n",
      "regular season game.          PENS RULE!!!\n",
      "\n",
      "\n"
     ]
    }
   ],
   "source": [
    "# prints\n",
    "print(\"Nombre de las clases: \", newsgroups.target_names)\n",
    "print(\"Número de muestras: \", len(newsgroups.data))\n",
    "print(\"Número de clases: \", len(newsgroups.target_names))\n",
    "print(newsgroups.data[0])\n"
   ]
  },
  {
   "cell_type": "code",
   "execution_count": 8,
   "metadata": {},
   "outputs": [],
   "source": [
    "# Dividir el dataset en train y test\n",
    "X_train, X_test, y_train, y_test = train_test_split(newsgroups.data, newsgroups.target, test_size=0.3, random_state=42)"
   ]
  },
  {
   "cell_type": "code",
   "execution_count": 9,
   "metadata": {},
   "outputs": [],
   "source": [
    "# Crear un vectorizador de características basado en recuento de palabras\n",
    "vectorizer = CountVectorizer()\n",
    "X_train_vec = vectorizer.fit_transform(X_train)\n",
    "X_test_vec = vectorizer.transform(X_test)"
   ]
  },
  {
   "cell_type": "code",
   "execution_count": 11,
   "metadata": {},
   "outputs": [
    {
     "data": {
      "text/plain": [
       "MultinomialNB()"
      ]
     },
     "execution_count": 11,
     "metadata": {},
     "output_type": "execute_result"
    }
   ],
   "source": [
    "# Entrenar el clasificador Multinomial Naive Bayes\n",
    "MultiNB_classifier = MultinomialNB()\n",
    "MultiNB_classifier.fit(X_train_vec, y_train)"
   ]
  },
  {
   "cell_type": "code",
   "execution_count": 12,
   "metadata": {},
   "outputs": [
    {
     "name": "stdout",
     "output_type": "stream",
     "text": [
      "Precisión del modelo AODE: 0.60\n"
     ]
    }
   ],
   "source": [
    "# Realizar predicciones en el conjunto de prueba\n",
    "y_pred = MultiNB_classifier.predict(X_test_vec)\n",
    "\n",
    "# Calcular la precisión del modelo\n",
    "accuracy = accuracy_score(y_test, y_pred)\n",
    "print(f\"Precisión del modelo AODE: {accuracy:.2f}\")"
   ]
  }
 ],
 "metadata": {
  "kernelspec": {
   "display_name": "base",
   "language": "python",
   "name": "python3"
  },
  "language_info": {
   "codemirror_mode": {
    "name": "ipython",
    "version": 3
   },
   "file_extension": ".py",
   "mimetype": "text/x-python",
   "name": "python",
   "nbconvert_exporter": "python",
   "pygments_lexer": "ipython3",
   "version": "3.9.13"
  },
  "orig_nbformat": 4
 },
 "nbformat": 4,
 "nbformat_minor": 2
}
