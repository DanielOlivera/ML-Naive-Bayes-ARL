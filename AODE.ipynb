{
  "nbformat": 4,
  "nbformat_minor": 0,
  "metadata": {
    "colab": {
      "provenance": []
    },
    "kernelspec": {
      "name": "python3",
      "display_name": "Python 3"
    },
    "language_info": {
      "name": "python"
    }
  },
  "cells": [
    {
      "cell_type": "markdown",
      "source": [
        "# ALGORITMO AODE"
      ],
      "metadata": {
        "id": "nEOnbMOOtPCH"
      }
    },
    {
      "cell_type": "markdown",
      "source": [
        "#Descripción:"
      ],
      "metadata": {
        "id": "2tM2vLKQtTcN"
      }
    },
    {
      "cell_type": "markdown",
      "source": [
        "El algoritmo AODE (Averaged One-Dependence Estimators) es un clasificador probabilístico que se utiliza en el aprendizaje automático para tareas de clasificación. Es una extensión del algoritmo Naive Bayes que trata de mitigar la asunción de independencia condicional entre las características en Naive Bayes. AODE se basa en la idea de que, en lugar de asumir independencia condicional completa entre las características, permite que las características estén condicionalmente dependientes entre sí dentro de la misma clase, pero aún asume independencia entre las clases.\n",
        "\n",
        "Las características clave de AODE incluyen:\n",
        "* Modelo de Probabilidades Condicionales: AODE construye un modelo de probabilidad condicional para cada característica dado un valor objetivo (clase). Esto significa que calcula la probabilidad de que una característica específica tome un valor particular dado que se encuentra en una clase específica.\n",
        "\n",
        "* Promedio de Estimadores: En lugar de seleccionar un solo estimador (modelo) para cada clase, AODE promedia los estimadores de todas las clases. Esto ayuda a reducir la varianza y a obtener estimaciones más robustas.\n",
        "\n",
        "* Suavizado Laplaciano: Al igual que en Naive Bayes, AODE puede aplicar suavizado Laplaciano para evitar que las probabilidades condicionales sean cero cuando no hay ejemplos de entrenamiento que coincidan exactamente con una combinación de características y clase.\n",
        "\n",
        "* Manejo de Características Categóricas: AODE es adecuado para manejar características categóricas y discretas, así como características numéricas."
      ],
      "metadata": {
        "id": "dB9sTYpwtX-s"
      }
    },
    {
      "cell_type": "markdown",
      "source": [
        "#Bibtext y Referencias"
      ],
      "metadata": {
        "id": "HUaWpOvgty6S"
      }
    },
    {
      "cell_type": "markdown",
      "source": [
        "@inproceedings{webb2002averaged,\n",
        "  title={Averaged One-Dependence Estimators: Preliminary Results.},\n",
        "  author={Webb, Geoffrey I and Boughton, Janice R and Wang, Zhihai},\n",
        "  booktitle={AusDM},\n",
        "  pages={65--74},\n",
        "  year={2002}\n",
        "}"
      ],
      "metadata": {
        "id": "9lVfN1VPw3bg"
      }
    },
    {
      "cell_type": "markdown",
      "source": [
        "# Herramientas utilizadas:\n",
        "* Obtención de información: https://chat.openai.com/\n",
        "* https://www.perplexity.ai/search/0d504068-30a3-4fd6-a727-5a2683f00db6?s=u\n",
        "* https://www.geeksforgeeks.org/averaged-one-dependence-estimators-aode/\n"
      ],
      "metadata": {
        "id": "UTJf_jCNuDiY"
      }
    },
    {
      "cell_type": "markdown",
      "source": [
        "#Tipo de Modelo:\n",
        "\n",
        "* MODELO DE APRENDIZAJE: No supervisado\n",
        "* POR PARAMETROS: No parametrico\n",
        "* DATOS APRENDIZAJE: Offline\n",
        "* RESULTADOS DEL ENTRENAMIENTO: Instancias"
      ],
      "metadata": {
        "id": "vhqN4tSwwnvl"
      }
    },
    {
      "cell_type": "markdown",
      "source": [
        "#Supuestos y Restricciones"
      ],
      "metadata": {
        "id": "T99rRb6-wuWa"
      }
    },
    {
      "cell_type": "markdown",
      "source": [
        "#Supuestos\n",
        "\n",
        "* Eficiencia Computacional: Aunque AODE es más flexible que algunos otros enfoques de aprendizaje automático, aún puede ser computacionalmente costoso en conjuntos de datos grandes con muchas características, ya que requiere estimar y promediar múltiples modelos de probabilidad condicional.\n",
        "\n",
        "* Supuestos de Independencia Relajados: Aunque AODE relaja la suposición de independencia total de Naive Bayes, aún supone independencia condicional, lo que puede ser una limitación en casos donde las características tienen dependencias complejas entre sí.\n",
        "\n",
        "#Restricciones\n",
        "\n",
        "* Datos Incompletos o Valores Ausentes: AODE puede tener dificultades al manejar datos con valores faltantes o incompletos. Dado que se basa en probabilidades condicionales, la falta de información en una característica puede afectar negativamente su rendimiento.\n",
        "\n",
        "* Cantidad de Datos: AODE, al igual que Naive Bayes, puede no funcionar bien cuando hay una cantidad limitada de datos de entrenamiento, ya que puede tener dificultades para estimar de manera confiable las probabilidades condicionales.\n",
        "\n",
        "* Interpretación Limitada: AODE, al igual que otros métodos basados en probabilidades, puede proporcionar buenas predicciones pero no siempre es el mejor enfoque para comprender las relaciones entre las características.\n"
      ],
      "metadata": {
        "id": "3kIk9uQswvLv"
      }
    },
    {
      "cell_type": "code",
      "execution_count": null,
      "metadata": {
        "id": "WtYXz2t0eLm5"
      },
      "outputs": [],
      "source": [
        "#Importar las librerias necesarias\n",
        "from collections import defaultdict\n",
        "\n",
        "# Función para entrenar el clasificador AODE\n",
        "\n",
        "\n",
        "def train(dataset):\n",
        "    # Crear un diccionario para almacenar las probabilidades de cada clase y valor de característica\n",
        "    probabilities = defaultdict(lambda: defaultdict(dict))\n",
        "\n",
        "    # Calcular la probabilidad de cada clase\n",
        "    class_counts = defaultdict(int)\n",
        "    for data in dataset:\n",
        "        x, y = data\n",
        "        class_counts[y] += 1\n",
        "    for y, count in class_counts.items():\n",
        "        probabilities[y]['total'] = count / len(dataset)\n",
        "\n",
        "    # Calcular la probabilidad de cada feature para cada clase\n",
        "    feature_counts = defaultdict(lambda: defaultdict(int))\n",
        "    for data in dataset:\n",
        "        x, y = data\n",
        "        for i in range(len(x)):\n",
        "            feature_counts[i][(x[i], y)] += 1\n",
        "    for i, counts in feature_counts.items():\n",
        "        for (x, y), count in counts.items():\n",
        "            probabilities[y][i][x] = count / class_counts[y]\n",
        "\n",
        "    return probabilities\n",
        "\n",
        "\n"
      ]
    },
    {
      "cell_type": "code",
      "source": [
        "#Función para hacer predicciones con el clasificador AODE\n",
        "\n",
        "\n",
        "def predict(model, data):\n",
        "    # Calcular la probabilidad conjunta de cada clase y los features del punto de datos\n",
        "    joint_probabilities = defaultdict(int)\n",
        "    for y, class_probabilities in model.items():\n",
        "        joint_probabilities[y] = class_probabilities['total']\n",
        "        for i, feature_probabilities in class_probabilities.items():\n",
        "            if i != 'total':\n",
        "                joint_probabilities[y] *= feature_probabilities.get(data[i], 0)\n",
        "\n",
        "    # Calcular la probabilidad de cada clase\n",
        "    likelihoods = defaultdict(int)\n",
        "    for y, joint_probability in joint_probabilities.items():\n",
        "        likelihoods[y] = joint_probability / sum(joint_probabilities.values())\n",
        "\n",
        "    # Return de la clase con mayor probabilidad\n",
        "    return max(likelihoods, key=likelihoods.get)\n"
      ],
      "metadata": {
        "id": "3NcVd6lBeQQm"
      },
      "execution_count": null,
      "outputs": []
    },
    {
      "cell_type": "code",
      "source": [
        "#Ejemplo con un dataset de prueba\n",
        "dataset = [\n",
        "    ([1, 1, 1, 1], 'A'),\n",
        "    ([1, 1, 1, 0], 'A'),\n",
        "    ([1, 1, 0, 1], 'A'),\n",
        "    ([1, 1, 0, 0], 'A'),\n",
        "    ([1, 0, 1, 1], 'B'),\n",
        "    ([1, 0, 1, 0], 'B'),\n",
        "    ([1, 0, 0, 1], 'B'),\n",
        "    ([1, 0, 0, 0], 'B'),\n",
        "    ([0, 1, 1, 1], 'C'),\n",
        "    ([0, 1, 1, 0], 'C'),\n",
        "    ([0, 1, 0, 1], 'C'),\n",
        "    ([0, 1, 0, 0], 'C'),\n",
        "    ([0, 0, 1, 1], 'D'),\n",
        "    ([0, 0, 1, 0], 'D'),\n",
        "    ([0, 0, 0, 1], 'D'),\n",
        "    ([0, 0, 0, 0], 'D'),\n",
        "]\n",
        "\n"
      ],
      "metadata": {
        "colab": {
          "base_uri": "https://localhost:8080/"
        },
        "id": "jqs49tcReSkM",
        "outputId": "b662ccc1-926d-442d-da58-bccc881c17d1"
      },
      "execution_count": null,
      "outputs": [
        {
          "output_type": "stream",
          "name": "stdout",
          "text": [
            "D\n"
          ]
        }
      ]
    },
    {
      "cell_type": "code",
      "source": [
        "#Entrenamiento del modelo\n",
        "model = train(dataset)"
      ],
      "metadata": {
        "id": "No5V9P0lyoVl"
      },
      "execution_count": 7,
      "outputs": []
    },
    {
      "cell_type": "code",
      "source": [
        "#Prediccion\n",
        "print(predict(model, [0, 0, 0, 0]))"
      ],
      "metadata": {
        "colab": {
          "base_uri": "https://localhost:8080/"
        },
        "id": "D9bqsZ6LyqaN",
        "outputId": "6b60de2b-0a7e-454f-c013-8d2e2156daf9"
      },
      "execution_count": 8,
      "outputs": [
        {
          "output_type": "stream",
          "name": "stdout",
          "text": [
            "D\n"
          ]
        }
      ]
    }
  ]
}